{
 "cells": [
  {
   "cell_type": "markdown",
   "metadata": {},
   "source": [
    "# Regression Week 5: LASSO Assignment 1\n",
    "\n",
    "In this assignment, you will use LASSO to select features, building on a pre-implemented solver for LASSO (using Turi Create, though you can use other solvers). You will:\n",
    "\n",
    "    Write a function to normalize features\n",
    "    Implement coordinate descent for LASSO\n",
    "    Explore effects of L1 penalty\n",
    "\n",
    "In the second assignment, you will implement your own LASSO solver, using coordinate descent."
   ]
  },
  {
   "cell_type": "code",
   "execution_count": 2,
   "metadata": {},
   "outputs": [],
   "source": [
    "import numpy as np\n",
    "from sklearn import linear_model\n",
    "from math import sqrt, log"
   ]
  },
  {
   "cell_type": "code",
   "execution_count": 1,
   "metadata": {},
   "outputs": [],
   "source": [
    "import pandas as pd\n",
    "\n",
    "dtype_dict = {'bathrooms':float, 'waterfront':int, 'sqft_above':int, 'sqft_living15':float, 'grade':int, 'yr_renovated':int, 'price':float, 'bedrooms':float, 'zipcode':str, 'long':float, 'sqft_lot15':float, 'sqft_living':float, 'floors':float, 'condition':int, 'lat':float, 'date':str, 'sqft_basement':int, 'yr_built':int, 'id':str, 'sqft_lot':int, 'view':int}\n",
    "\n",
    "sales = pd.read_csv('kc_house_data.csv', dtype=dtype_dict)"
   ]
  },
  {
   "cell_type": "code",
   "execution_count": 3,
   "metadata": {},
   "outputs": [],
   "source": [
    "sales['sqft_living_sqrt'] = sales['sqft_living'].apply(sqrt)\n",
    "sales['sqft_lot_sqrt'] = sales['sqft_lot'].apply(sqrt)\n",
    "sales['bedrooms_square'] = sales['bedrooms']*sales['bedrooms']\n",
    "sales['floors_square'] = sales['floors']*sales['floors']"
   ]
  },
  {
   "cell_type": "markdown",
   "metadata": {},
   "source": [
    "# 1. Create new features by performing following transformation on inputs:\n",
    "    \n",
    "      i) Squaring bedrooms will increase the separation between not many bedrooms (e.g. 1) and lots of bedrooms (e.g. 4) since 1^2 = 1 but 4^2 = 16. Consequently this variable will mostly affect houses with many bedrooms.\n",
    "      \n",
    "      ii) On the other hand, taking square root of sqft_living will decrease the separation between big house and  small house. The owner may not be exactly twice as happy for getting a house that is twice as big.\n",
    "      \n",
    "      \n",
    "# 2. Using the entire house dataset, learn regression weights using an L1 penalty of 5e2. Make sure to add \"normalize=True\" when creating the Lasso object. Refer to the following code snippet for the list of features."
   ]
  },
  {
   "cell_type": "code",
   "execution_count": 6,
   "metadata": {},
   "outputs": [
    {
     "data": {
      "text/plain": [
       "Lasso(alpha=500.0, copy_X=True, fit_intercept=True, max_iter=1000,\n",
       "      normalize=True, positive=False, precompute=False, random_state=None,\n",
       "      selection='cyclic', tol=0.0001, warm_start=False)"
      ]
     },
     "execution_count": 6,
     "metadata": {},
     "output_type": "execute_result"
    }
   ],
   "source": [
    "from sklearn import linear_model  # using scikit-learn\n",
    "\n",
    "all_features = ['bedrooms', 'bedrooms_square', 'bathrooms', 'sqft_living', \n",
    "                'sqft_living_sqrt', 'sqft_lot', 'sqft_lot_sqrt', 'floors', \n",
    "                'floors_square','waterfront', 'view',  'condition', \n",
    "                'grade', 'sqft_above', 'sqft_basement', 'yr_built', \n",
    "                'yr_renovated']\n",
    "\n",
    "model_all = linear_model.Lasso(alpha=5e2, normalize=True) # set parameters\n",
    "model_all.fit(sales[all_features], sales['price']) # learn weights"
   ]
  },
  {
   "cell_type": "markdown",
   "metadata": {},
   "source": [
    "# 3. Quiz Question: Which features have been chosen by LASSO, i.e. which features were assigned nonzero weights?"
   ]
  },
  {
   "cell_type": "code",
   "execution_count": 10,
   "metadata": {},
   "outputs": [
    {
     "data": {
      "text/plain": [
       "array([    0.        ,     0.        ,     0.        ,   134.43931396,\n",
       "           0.        ,     0.        ,     0.        ,     0.        ,\n",
       "           0.        ,     0.        , 24750.00458561,     0.        ,\n",
       "       61749.10309071,     0.        ,     0.        ,    -0.        ,\n",
       "           0.        ])"
      ]
     },
     "execution_count": 10,
     "metadata": {},
     "output_type": "execute_result"
    }
   ],
   "source": [
    "model_all.coef_"
   ]
  },
  {
   "cell_type": "markdown",
   "metadata": {},
   "source": [
    "# 4. To find a good L1 penalty, we will explore multiple values using a validation set. Let us do three way split into train, validation, and test sets. "
   ]
  },
  {
   "cell_type": "code",
   "execution_count": 7,
   "metadata": {},
   "outputs": [],
   "source": [
    "testing = pd.read_csv('wk3_kc_house_test_data.csv', dtype=dtype_dict)\n",
    "training = pd.read_csv('wk3_kc_house_train_data.csv', dtype=dtype_dict)\n",
    "validation = pd.read_csv('wk3_kc_house_valid_data.csv', dtype=dtype_dict)"
   ]
  },
  {
   "cell_type": "markdown",
   "metadata": {},
   "source": [
    "# Make sure to create the 4 features as we did in step 1:"
   ]
  },
  {
   "cell_type": "code",
   "execution_count": 8,
   "metadata": {},
   "outputs": [],
   "source": [
    "testing['sqft_living_sqrt'] = testing['sqft_living'].apply(sqrt)\n",
    "testing['sqft_lot_sqrt'] = testing['sqft_lot'].apply(sqrt)\n",
    "testing['bedrooms_square'] = testing['bedrooms']*testing['bedrooms']\n",
    "testing['floors_square'] = testing['floors']*testing['floors']\n",
    "\n",
    "training['sqft_living_sqrt'] = training['sqft_living'].apply(sqrt)\n",
    "training['sqft_lot_sqrt'] = training['sqft_lot'].apply(sqrt)\n",
    "training['bedrooms_square'] = training['bedrooms']*training['bedrooms']\n",
    "training['floors_square'] = training['floors']*training['floors']\n",
    "\n",
    "validation['sqft_living_sqrt'] = validation['sqft_living'].apply(sqrt)\n",
    "validation['sqft_lot_sqrt'] = validation['sqft_lot'].apply(sqrt)\n",
    "validation['bedrooms_square'] = validation['bedrooms']*validation['bedrooms']\n",
    "validation['floors_square'] = validation['floors']*validation['floors']"
   ]
  },
  {
   "cell_type": "markdown",
   "metadata": {},
   "source": [
    "# 5. Now for each l1_penalty in [10^1, 10^1.5, 10^2, 10^2.5, ..., 10^7] (to get this in Python, type np.logspace(1, 7, num=13).)\n",
    "\n",
    "    Learn a model on TRAINING data using the specified l1_penalty. Make sure to specify normalize=True in the constructor:\n",
    "    \n",
    "    Compute the RSS on VALIDATION for the current model (print or save the RSS)\n",
    "\n",
    "Report which L1 penalty produced the lower RSS on VALIDATION."
   ]
  },
  {
   "cell_type": "code",
   "execution_count": 12,
   "metadata": {},
   "outputs": [
    {
     "data": {
      "text/plain": [
       "array([1.00000000e+01, 3.16227766e+01, 1.00000000e+02, 3.16227766e+02,\n",
       "       1.00000000e+03, 3.16227766e+03, 1.00000000e+04, 3.16227766e+04,\n",
       "       1.00000000e+05, 3.16227766e+05, 1.00000000e+06, 3.16227766e+06,\n",
       "       1.00000000e+07])"
      ]
     },
     "execution_count": 12,
     "metadata": {},
     "output_type": "execute_result"
    }
   ],
   "source": [
    "l1_values = np.logspace(1, 7, num=13)\n",
    "l1_values"
   ]
  },
  {
   "cell_type": "code",
   "execution_count": 17,
   "metadata": {},
   "outputs": [],
   "source": [
    "def lasso_reg(l1_values, train_data, valid_data):\n",
    "    rsslist=[]\n",
    "    for l1_penalty in l1_values:\n",
    "        all_features = ['bedrooms', 'bedrooms_square', 'bathrooms', 'sqft_living', \n",
    "                        'sqft_living_sqrt', 'sqft_lot', 'sqft_lot_sqrt', 'floors', \n",
    "                        'floors_square','waterfront', 'view',  'condition', \n",
    "                        'grade', 'sqft_above', 'sqft_basement', 'yr_built', \n",
    "                        'yr_renovated']\n",
    "        lasso_model = linear_model.Lasso(alpha=l1_penalty, normalize=True)\n",
    "        lasso_model.fit(train_data[all_features], train_data['price'])\n",
    "        rss=(((lasso_model.predict(valid_data[all_features]))-valid_data['price'])**2).sum()\n",
    "        rsslist.append(rss)\n",
    "    return rsslist"
   ]
  },
  {
   "cell_type": "code",
   "execution_count": 18,
   "metadata": {},
   "outputs": [
    {
     "data": {
      "text/plain": [
       "[398213327300134.9,\n",
       " 399041900253346.9,\n",
       " 429791604072559.6,\n",
       " 463739831045121.1,\n",
       " 645898733633800.8,\n",
       " 1222506859427163.0,\n",
       " 1222506859427163.0,\n",
       " 1222506859427163.0,\n",
       " 1222506859427163.0,\n",
       " 1222506859427163.0,\n",
       " 1222506859427163.0,\n",
       " 1222506859427163.0,\n",
       " 1222506859427163.0]"
      ]
     },
     "execution_count": 18,
     "metadata": {},
     "output_type": "execute_result"
    }
   ],
   "source": [
    "lasso_reg(l1_values, training, validation)"
   ]
  },
  {
   "cell_type": "markdown",
   "metadata": {},
   "source": [
    "# 6. Quiz Question: Which was the best value for the l1_penalty, i.e. which value of l1_penalty produced the lowest RSS on VALIDATION data?\n",
    "\n",
    "> # 10"
   ]
  },
  {
   "cell_type": "markdown",
   "metadata": {},
   "source": [
    "# 7. Now that you have selected an L1 penalty, compute the RSS on TEST data for the model with the best L1 penalty."
   ]
  },
  {
   "cell_type": "code",
   "execution_count": 21,
   "metadata": {},
   "outputs": [
    {
     "data": {
      "text/plain": [
       "array([296066.64518244, 573310.90252684, 469890.60540606, ...,\n",
       "       582482.45746782, 346556.81148311, 368373.5502992 ])"
      ]
     },
     "execution_count": 21,
     "metadata": {},
     "output_type": "execute_result"
    }
   ],
   "source": [
    "l1_penalty = 10\n",
    "model2 = linear_model.Lasso(alpha=l1_penalty, normalize=True)\n",
    "model2.fit(training[all_features], training['price'])\n",
    "\n",
    "test_prediction = model2.predict(testing[all_features])\n",
    "test_prediction"
   ]
  },
  {
   "cell_type": "code",
   "execution_count": 25,
   "metadata": {},
   "outputs": [
    {
     "data": {
      "text/plain": [
       "-4852.15776158293"
      ]
     },
     "execution_count": 25,
     "metadata": {},
     "output_type": "execute_result"
    }
   ],
   "source": [
    "test_error = test_prediction - testing['price']\n",
    "test_error.mean()"
   ]
  },
  {
   "cell_type": "code",
   "execution_count": 27,
   "metadata": {},
   "outputs": [
    {
     "data": {
      "text/plain": [
       "98467402552698.75"
      ]
     },
     "execution_count": 27,
     "metadata": {},
     "output_type": "execute_result"
    }
   ],
   "source": [
    "test_rss = (test_error ** 2).sum()\n",
    "test_rss"
   ]
  },
  {
   "cell_type": "markdown",
   "metadata": {},
   "source": [
    "# 8. Quiz Question: Using the best L1 penalty, how many nonzero weights do you have? Count the number of nonzero coefficients first, and add 1 if the intercept is also nonzero. A succinct way to do this is"
   ]
  },
  {
   "cell_type": "code",
   "execution_count": 28,
   "metadata": {},
   "outputs": [
    {
     "data": {
      "text/plain": [
       "15"
      ]
     },
     "execution_count": 28,
     "metadata": {},
     "output_type": "execute_result"
    }
   ],
   "source": [
    "np.count_nonzero(model2.coef_) + np.count_nonzero(model2.intercept_)"
   ]
  },
  {
   "cell_type": "markdown",
   "metadata": {},
   "source": [
    "# 9. What if we absolutely wanted to limit ourselves to, say, 7 features? This may be important if we want to derive \"a rule of thumb\" --- an interpretable model that has only a few features in them.\n",
    "\n",
    "You are going to implement a simple, two phase procedure to achieve this goal:\n",
    "\n",
    "    Explore a large range of ‘l1_penalty’ values to find a narrow region of ‘l1_penalty’ values where models are likely to have the desired number of non-zero weights.\n",
    "    Further explore the narrow region you found to find a good value for ‘l1_penalty’ that achieves the desired sparsity. Here, we will again use a validation set to choose the best value for ‘l1_penalty’.\n",
    "\n",
    "# 10. Assign 7 to the variable ‘max_nonzeros’."
   ]
  },
  {
   "cell_type": "code",
   "execution_count": null,
   "metadata": {},
   "outputs": [],
   "source": [
    "max_nonzeros = 7"
   ]
  },
  {
   "cell_type": "markdown",
   "metadata": {},
   "source": [
    "# 11. Exploring large range of l1_penalty\n",
    "\n",
    "    For l1_penalty in np.logspace(1, 4, num=20):\n",
    "\n",
    "    Fit a regression model with a given l1_penalty on TRAIN data. Add \"alpha=l1_penalty\" and \"normalize=True\" to the parameter list."
   ]
  },
  {
   "cell_type": "code",
   "execution_count": 31,
   "metadata": {},
   "outputs": [],
   "source": [
    "def large_range(training_data):\n",
    "    num = []\n",
    "    for l1_penalty in np.logspace(1, 4, num=20):\n",
    "        model = linear_model.Lasso(alpha=l1_penalty, normalize=True)\n",
    "        model.fit(training_data[all_features], training_data['price'])\n",
    "        non_zero = np.count_nonzero(model.coef_) + np.count_nonzero(model.intercept_)\n",
    "        num.append(non_zero)\n",
    "    return num"
   ]
  },
  {
   "cell_type": "code",
   "execution_count": 32,
   "metadata": {},
   "outputs": [
    {
     "data": {
      "text/plain": [
       "[15, 15, 15, 15, 13, 12, 11, 10, 7, 6, 6, 6, 5, 3, 3, 2, 1, 1, 1, 1]"
      ]
     },
     "execution_count": 32,
     "metadata": {},
     "output_type": "execute_result"
    }
   ],
   "source": [
    "large_range(training)"
   ]
  },
  {
   "cell_type": "code",
   "execution_count": 33,
   "metadata": {},
   "outputs": [
    {
     "data": {
      "text/plain": [
       "array([   10.        ,    14.38449888,    20.69138081,    29.76351442,\n",
       "          42.81332399,    61.58482111,    88.58667904,   127.42749857,\n",
       "         183.29807108,   263.66508987,   379.26901907,   545.55947812,\n",
       "         784.75997035,  1128.83789168,  1623.77673919,  2335.72146909,\n",
       "        3359.81828628,  4832.93023857,  6951.92796178, 10000.        ])"
      ]
     },
     "execution_count": 33,
     "metadata": {},
     "output_type": "execute_result"
    }
   ],
   "source": [
    "np.logspace(1, 4, num=20)"
   ]
  },
  {
   "cell_type": "markdown",
   "metadata": {},
   "source": [
    "# 12. Out of this large range, we want to find the two ends of our desired narrow range of l1_penalty. At one end, we will have l1_penalty values that have too few non-zeros, and at the other end, we will have an l1_penalty that has too many non-zeros.\n",
    "\n",
    "More formally, find:\n",
    "\n",
    "    The largest l1_penalty that has more non-zeros than ‘max_nonzeros’ (if we pick a penalty smaller than this value, we will definitely have too many non-zero weights)Store this value in the variable ‘l1_penalty_min’ (we will use it later)\n",
    "    The smallest l1_penalty that has fewer non-zeros than ‘max_nonzeros’ (if we pick a penalty larger than this value, we will definitely have too few non-zero weights)Store this value in the variable ‘l1_penalty_max’ (we will use it later)\n",
    "\n",
    "Hint: there are many ways to do this, e.g.:\n",
    "\n",
    "    Programmatically within the loop above\n",
    "    Creating a list with the number of non-zeros for each value of l1_penalty and inspecting it to find the appropriate boundaries.\n",
    "    \n",
    " \n"
   ]
  },
  {
   "cell_type": "markdown",
   "metadata": {},
   "source": [
    "# 13. Quiz Question: What values did you find for l1_penalty_min and l1_penalty_max?\n",
    "\n",
    "## largest l1_penalty = l1_penalty_min = 127.42749857\n",
    "\n",
    "## smallest l1_penalty = l1_penalty_max = 263.66508987"
   ]
  },
  {
   "cell_type": "markdown",
   "metadata": {},
   "source": [
    "# 14. Exploring narrower range of l1_penalty\n",
    "\n",
    "We now explore the region of l1_penalty we found: between ‘l1_penalty_min’ and ‘l1_penalty_max’. We look for the L1 penalty in this range that produces exactly the right number of nonzeros and also minimizes RSS on the VALIDATION set.\n",
    "\n",
    "For l1_penalty in np.linspace(l1_penalty_min,l1_penalty_max,20):\n",
    "\n",
    "    Fit a regression model with a given l1_penalty on TRAIN data. As before, use \"alpha=l1_penalty\" and \"normalize=True\".\n",
    "    Measure the RSS of the learned model on the VALIDATION set\n",
    "\n",
    "Find the model that the lowest RSS on the VALIDATION set and has sparsity equal to ‘max_nonzeros’. (Again, take account of the intercept when counting the number of nonzeros.)"
   ]
  },
  {
   "cell_type": "code",
   "execution_count": 48,
   "metadata": {},
   "outputs": [],
   "source": [
    "l1_penalty_min = 127.42749857\n",
    "l1_penalty_max = 263.66508987\n",
    "\n",
    "def final_model(training_data,validation_data):\n",
    "    sparsity = []\n",
    "    valid_rss = []\n",
    "    l1_penalty_list = []\n",
    "    \n",
    "    for l1_penalty in np.linspace(l1_penalty_min,l1_penalty_max,20):\n",
    "        l1_penalty_list.append(l1_penalty)\n",
    "        all_features = ['bedrooms', 'bedrooms_square', 'bathrooms', 'sqft_living', \n",
    "                        'sqft_living_sqrt', 'sqft_lot', 'sqft_lot_sqrt', 'floors', \n",
    "                        'floors_square','waterfront', 'view',  'condition', \n",
    "                        'grade', 'sqft_above', 'sqft_basement', 'yr_built', \n",
    "                        'yr_renovated']\n",
    "        model = linear_model.Lasso(alpha=l1_penalty, normalize=True)\n",
    "        model.fit(training_data[all_features], training_data['price'])\n",
    "        non_zeros = np.count_nonzero(model.coef_) + np.count_nonzero(model.intercept_)\n",
    "        \n",
    "        sparsity.append(non_zeros)\n",
    "        \n",
    "        validation_rss = (((model.predict(validation_data[all_features]))-validation_data['price'])**2).sum()\n",
    "        valid_rss.append(validation_rss)\n",
    "        \n",
    "    df = pd.DataFrame({'l1_penalty': l1_penalty_list, \"Sparsity\" : sparsity, \"Validation_rss\" : valid_rss})\n",
    "    return df\n",
    "        "
   ]
  },
  {
   "cell_type": "code",
   "execution_count": 50,
   "metadata": {},
   "outputs": [
    {
     "data": {
      "text/html": [
       "<div>\n",
       "<style scoped>\n",
       "    .dataframe tbody tr th:only-of-type {\n",
       "        vertical-align: middle;\n",
       "    }\n",
       "\n",
       "    .dataframe tbody tr th {\n",
       "        vertical-align: top;\n",
       "    }\n",
       "\n",
       "    .dataframe thead th {\n",
       "        text-align: right;\n",
       "    }\n",
       "</style>\n",
       "<table border=\"1\" class=\"dataframe\">\n",
       "  <thead>\n",
       "    <tr style=\"text-align: right;\">\n",
       "      <th></th>\n",
       "      <th>l1_penalty</th>\n",
       "      <th>Sparsity</th>\n",
       "      <th>Validation_rss</th>\n",
       "    </tr>\n",
       "  </thead>\n",
       "  <tbody>\n",
       "    <tr>\n",
       "      <th>0</th>\n",
       "      <td>127.427499</td>\n",
       "      <td>10</td>\n",
       "      <td>4.353747e+14</td>\n",
       "    </tr>\n",
       "    <tr>\n",
       "      <th>1</th>\n",
       "      <td>134.597898</td>\n",
       "      <td>10</td>\n",
       "      <td>4.370092e+14</td>\n",
       "    </tr>\n",
       "    <tr>\n",
       "      <th>2</th>\n",
       "      <td>141.768298</td>\n",
       "      <td>8</td>\n",
       "      <td>4.382361e+14</td>\n",
       "    </tr>\n",
       "    <tr>\n",
       "      <th>3</th>\n",
       "      <td>148.938697</td>\n",
       "      <td>8</td>\n",
       "      <td>4.391589e+14</td>\n",
       "    </tr>\n",
       "    <tr>\n",
       "      <th>4</th>\n",
       "      <td>156.109097</td>\n",
       "      <td>7</td>\n",
       "      <td>4.400374e+14</td>\n",
       "    </tr>\n",
       "    <tr>\n",
       "      <th>5</th>\n",
       "      <td>163.279496</td>\n",
       "      <td>7</td>\n",
       "      <td>4.407775e+14</td>\n",
       "    </tr>\n",
       "    <tr>\n",
       "      <th>6</th>\n",
       "      <td>170.449896</td>\n",
       "      <td>7</td>\n",
       "      <td>4.415667e+14</td>\n",
       "    </tr>\n",
       "    <tr>\n",
       "      <th>7</th>\n",
       "      <td>177.620295</td>\n",
       "      <td>7</td>\n",
       "      <td>4.424064e+14</td>\n",
       "    </tr>\n",
       "    <tr>\n",
       "      <th>8</th>\n",
       "      <td>184.790695</td>\n",
       "      <td>7</td>\n",
       "      <td>4.432967e+14</td>\n",
       "    </tr>\n",
       "    <tr>\n",
       "      <th>9</th>\n",
       "      <td>191.961094</td>\n",
       "      <td>7</td>\n",
       "      <td>4.442398e+14</td>\n",
       "    </tr>\n",
       "    <tr>\n",
       "      <th>10</th>\n",
       "      <td>199.131494</td>\n",
       "      <td>7</td>\n",
       "      <td>4.452307e+14</td>\n",
       "    </tr>\n",
       "    <tr>\n",
       "      <th>11</th>\n",
       "      <td>206.301894</td>\n",
       "      <td>6</td>\n",
       "      <td>4.462689e+14</td>\n",
       "    </tr>\n",
       "    <tr>\n",
       "      <th>12</th>\n",
       "      <td>213.472293</td>\n",
       "      <td>6</td>\n",
       "      <td>4.471129e+14</td>\n",
       "    </tr>\n",
       "    <tr>\n",
       "      <th>13</th>\n",
       "      <td>220.642693</td>\n",
       "      <td>6</td>\n",
       "      <td>4.479982e+14</td>\n",
       "    </tr>\n",
       "    <tr>\n",
       "      <th>14</th>\n",
       "      <td>227.813092</td>\n",
       "      <td>6</td>\n",
       "      <td>4.489247e+14</td>\n",
       "    </tr>\n",
       "    <tr>\n",
       "      <th>15</th>\n",
       "      <td>234.983492</td>\n",
       "      <td>6</td>\n",
       "      <td>4.498925e+14</td>\n",
       "    </tr>\n",
       "    <tr>\n",
       "      <th>16</th>\n",
       "      <td>242.153891</td>\n",
       "      <td>6</td>\n",
       "      <td>4.509015e+14</td>\n",
       "    </tr>\n",
       "    <tr>\n",
       "      <th>17</th>\n",
       "      <td>249.324291</td>\n",
       "      <td>6</td>\n",
       "      <td>4.519524e+14</td>\n",
       "    </tr>\n",
       "    <tr>\n",
       "      <th>18</th>\n",
       "      <td>256.494690</td>\n",
       "      <td>6</td>\n",
       "      <td>4.530439e+14</td>\n",
       "    </tr>\n",
       "    <tr>\n",
       "      <th>19</th>\n",
       "      <td>263.665090</td>\n",
       "      <td>6</td>\n",
       "      <td>4.541767e+14</td>\n",
       "    </tr>\n",
       "  </tbody>\n",
       "</table>\n",
       "</div>"
      ],
      "text/plain": [
       "    l1_penalty  Sparsity  Validation_rss\n",
       "0   127.427499        10    4.353747e+14\n",
       "1   134.597898        10    4.370092e+14\n",
       "2   141.768298         8    4.382361e+14\n",
       "3   148.938697         8    4.391589e+14\n",
       "4   156.109097         7    4.400374e+14\n",
       "5   163.279496         7    4.407775e+14\n",
       "6   170.449896         7    4.415667e+14\n",
       "7   177.620295         7    4.424064e+14\n",
       "8   184.790695         7    4.432967e+14\n",
       "9   191.961094         7    4.442398e+14\n",
       "10  199.131494         7    4.452307e+14\n",
       "11  206.301894         6    4.462689e+14\n",
       "12  213.472293         6    4.471129e+14\n",
       "13  220.642693         6    4.479982e+14\n",
       "14  227.813092         6    4.489247e+14\n",
       "15  234.983492         6    4.498925e+14\n",
       "16  242.153891         6    4.509015e+14\n",
       "17  249.324291         6    4.519524e+14\n",
       "18  256.494690         6    4.530439e+14\n",
       "19  263.665090         6    4.541767e+14"
      ]
     },
     "execution_count": 50,
     "metadata": {},
     "output_type": "execute_result"
    }
   ],
   "source": [
    "df = final_model(training, validation)\n",
    "df"
   ]
  },
  {
   "cell_type": "code",
   "execution_count": 51,
   "metadata": {},
   "outputs": [
    {
     "data": {
      "text/html": [
       "<div>\n",
       "<style scoped>\n",
       "    .dataframe tbody tr th:only-of-type {\n",
       "        vertical-align: middle;\n",
       "    }\n",
       "\n",
       "    .dataframe tbody tr th {\n",
       "        vertical-align: top;\n",
       "    }\n",
       "\n",
       "    .dataframe thead th {\n",
       "        text-align: right;\n",
       "    }\n",
       "</style>\n",
       "<table border=\"1\" class=\"dataframe\">\n",
       "  <thead>\n",
       "    <tr style=\"text-align: right;\">\n",
       "      <th></th>\n",
       "      <th>l1_penalty</th>\n",
       "      <th>Sparsity</th>\n",
       "      <th>Validation_rss</th>\n",
       "    </tr>\n",
       "  </thead>\n",
       "  <tbody>\n",
       "    <tr>\n",
       "      <th>0</th>\n",
       "      <td>127.427499</td>\n",
       "      <td>10</td>\n",
       "      <td>4.353747e+14</td>\n",
       "    </tr>\n",
       "    <tr>\n",
       "      <th>1</th>\n",
       "      <td>134.597898</td>\n",
       "      <td>10</td>\n",
       "      <td>4.370092e+14</td>\n",
       "    </tr>\n",
       "    <tr>\n",
       "      <th>2</th>\n",
       "      <td>141.768298</td>\n",
       "      <td>8</td>\n",
       "      <td>4.382361e+14</td>\n",
       "    </tr>\n",
       "    <tr>\n",
       "      <th>3</th>\n",
       "      <td>148.938697</td>\n",
       "      <td>8</td>\n",
       "      <td>4.391589e+14</td>\n",
       "    </tr>\n",
       "    <tr>\n",
       "      <th>4</th>\n",
       "      <td>156.109097</td>\n",
       "      <td>7</td>\n",
       "      <td>4.400374e+14</td>\n",
       "    </tr>\n",
       "    <tr>\n",
       "      <th>5</th>\n",
       "      <td>163.279496</td>\n",
       "      <td>7</td>\n",
       "      <td>4.407775e+14</td>\n",
       "    </tr>\n",
       "    <tr>\n",
       "      <th>6</th>\n",
       "      <td>170.449896</td>\n",
       "      <td>7</td>\n",
       "      <td>4.415667e+14</td>\n",
       "    </tr>\n",
       "    <tr>\n",
       "      <th>7</th>\n",
       "      <td>177.620295</td>\n",
       "      <td>7</td>\n",
       "      <td>4.424064e+14</td>\n",
       "    </tr>\n",
       "    <tr>\n",
       "      <th>8</th>\n",
       "      <td>184.790695</td>\n",
       "      <td>7</td>\n",
       "      <td>4.432967e+14</td>\n",
       "    </tr>\n",
       "    <tr>\n",
       "      <th>9</th>\n",
       "      <td>191.961094</td>\n",
       "      <td>7</td>\n",
       "      <td>4.442398e+14</td>\n",
       "    </tr>\n",
       "    <tr>\n",
       "      <th>10</th>\n",
       "      <td>199.131494</td>\n",
       "      <td>7</td>\n",
       "      <td>4.452307e+14</td>\n",
       "    </tr>\n",
       "    <tr>\n",
       "      <th>11</th>\n",
       "      <td>206.301894</td>\n",
       "      <td>6</td>\n",
       "      <td>4.462689e+14</td>\n",
       "    </tr>\n",
       "    <tr>\n",
       "      <th>12</th>\n",
       "      <td>213.472293</td>\n",
       "      <td>6</td>\n",
       "      <td>4.471129e+14</td>\n",
       "    </tr>\n",
       "    <tr>\n",
       "      <th>13</th>\n",
       "      <td>220.642693</td>\n",
       "      <td>6</td>\n",
       "      <td>4.479982e+14</td>\n",
       "    </tr>\n",
       "    <tr>\n",
       "      <th>14</th>\n",
       "      <td>227.813092</td>\n",
       "      <td>6</td>\n",
       "      <td>4.489247e+14</td>\n",
       "    </tr>\n",
       "    <tr>\n",
       "      <th>15</th>\n",
       "      <td>234.983492</td>\n",
       "      <td>6</td>\n",
       "      <td>4.498925e+14</td>\n",
       "    </tr>\n",
       "    <tr>\n",
       "      <th>16</th>\n",
       "      <td>242.153891</td>\n",
       "      <td>6</td>\n",
       "      <td>4.509015e+14</td>\n",
       "    </tr>\n",
       "    <tr>\n",
       "      <th>17</th>\n",
       "      <td>249.324291</td>\n",
       "      <td>6</td>\n",
       "      <td>4.519524e+14</td>\n",
       "    </tr>\n",
       "    <tr>\n",
       "      <th>18</th>\n",
       "      <td>256.494690</td>\n",
       "      <td>6</td>\n",
       "      <td>4.530439e+14</td>\n",
       "    </tr>\n",
       "    <tr>\n",
       "      <th>19</th>\n",
       "      <td>263.665090</td>\n",
       "      <td>6</td>\n",
       "      <td>4.541767e+14</td>\n",
       "    </tr>\n",
       "  </tbody>\n",
       "</table>\n",
       "</div>"
      ],
      "text/plain": [
       "    l1_penalty  Sparsity  Validation_rss\n",
       "0   127.427499        10    4.353747e+14\n",
       "1   134.597898        10    4.370092e+14\n",
       "2   141.768298         8    4.382361e+14\n",
       "3   148.938697         8    4.391589e+14\n",
       "4   156.109097         7    4.400374e+14\n",
       "5   163.279496         7    4.407775e+14\n",
       "6   170.449896         7    4.415667e+14\n",
       "7   177.620295         7    4.424064e+14\n",
       "8   184.790695         7    4.432967e+14\n",
       "9   191.961094         7    4.442398e+14\n",
       "10  199.131494         7    4.452307e+14\n",
       "11  206.301894         6    4.462689e+14\n",
       "12  213.472293         6    4.471129e+14\n",
       "13  220.642693         6    4.479982e+14\n",
       "14  227.813092         6    4.489247e+14\n",
       "15  234.983492         6    4.498925e+14\n",
       "16  242.153891         6    4.509015e+14\n",
       "17  249.324291         6    4.519524e+14\n",
       "18  256.494690         6    4.530439e+14\n",
       "19  263.665090         6    4.541767e+14"
      ]
     },
     "execution_count": 51,
     "metadata": {},
     "output_type": "execute_result"
    }
   ],
   "source": [
    "df.sort_values(by=['Validation_rss'])"
   ]
  },
  {
   "cell_type": "markdown",
   "metadata": {},
   "source": [
    "# 15. Quiz Question: What value of l1_penalty in our narrow range has the lowest RSS on the VALIDATION set and has sparsity equal to ‘max_nonzeros’?\n",
    "\n",
    "> ## 156.109097"
   ]
  },
  {
   "cell_type": "markdown",
   "metadata": {},
   "source": [
    "# 16. Quiz Question: What features in this model have non-zero coefficients?"
   ]
  },
  {
   "cell_type": "code",
   "execution_count": 54,
   "metadata": {
    "collapsed": true
   },
   "outputs": [
    {
     "data": {
      "text/plain": [
       "array([-0.00000000e+00, -0.00000000e+00,  1.06108902e+04,  1.63380252e+02,\n",
       "        0.00000000e+00, -0.00000000e+00, -0.00000000e+00,  0.00000000e+00,\n",
       "        0.00000000e+00,  5.06451687e+05,  4.19600436e+04,  0.00000000e+00,\n",
       "        1.16253554e+05,  0.00000000e+00,  0.00000000e+00, -2.61223488e+03,\n",
       "        0.00000000e+00])"
      ]
     },
     "execution_count": 54,
     "metadata": {},
     "output_type": "execute_result"
    }
   ],
   "source": [
    "all_features = ['bedrooms', 'bedrooms_square', 'bathrooms', 'sqft_living', \n",
    "                'sqft_living_sqrt', 'sqft_lot', 'sqft_lot_sqrt', 'floors', \n",
    "                'floors_square','waterfront', 'view',  'condition', \n",
    "                'grade', 'sqft_above', 'sqft_basement', 'yr_built', \n",
    "                'yr_renovated']\n",
    "l1_penalty = 156.109097\n",
    "model_test = linear_model.Lasso(alpha=l1_penalty, normalize=True)\n",
    "model_test.fit(training[all_features], training['price'])\n",
    "model_test.coef_"
   ]
  },
  {
   "cell_type": "markdown",
   "metadata": {},
   "source": [
    "# bathrooms , sqft_living, waterfront, view, grade, yr_built"
   ]
  },
  {
   "cell_type": "code",
   "execution_count": null,
   "metadata": {},
   "outputs": [],
   "source": []
  }
 ],
 "metadata": {
  "kernelspec": {
   "display_name": "Python 3",
   "language": "python",
   "name": "python3"
  },
  "language_info": {
   "codemirror_mode": {
    "name": "ipython",
    "version": 3
   },
   "file_extension": ".py",
   "mimetype": "text/x-python",
   "name": "python",
   "nbconvert_exporter": "python",
   "pygments_lexer": "ipython3",
   "version": "3.7.3"
  },
  "latex_envs": {
   "LaTeX_envs_menu_present": true,
   "autoclose": false,
   "autocomplete": true,
   "bibliofile": "biblio.bib",
   "cite_by": "apalike",
   "current_citInitial": 1,
   "eqLabelWithNumbers": true,
   "eqNumInitial": 1,
   "hotkeys": {
    "equation": "Ctrl-E",
    "itemize": "Ctrl-I"
   },
   "labels_anchors": false,
   "latex_user_defs": false,
   "report_style_numbering": false,
   "user_envs_cfg": false
  },
  "varInspector": {
   "cols": {
    "lenName": 16,
    "lenType": 16,
    "lenVar": 40
   },
   "kernels_config": {
    "python": {
     "delete_cmd_postfix": "",
     "delete_cmd_prefix": "del ",
     "library": "var_list.py",
     "varRefreshCmd": "print(var_dic_list())"
    },
    "r": {
     "delete_cmd_postfix": ") ",
     "delete_cmd_prefix": "rm(",
     "library": "var_list.r",
     "varRefreshCmd": "cat(var_dic_list()) "
    }
   },
   "types_to_exclude": [
    "module",
    "function",
    "builtin_function_or_method",
    "instance",
    "_Feature"
   ],
   "window_display": false
  }
 },
 "nbformat": 4,
 "nbformat_minor": 4
}
